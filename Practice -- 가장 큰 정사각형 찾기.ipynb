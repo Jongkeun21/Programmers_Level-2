{
 "cells": [
  {
   "cell_type": "code",
   "execution_count": 1,
   "metadata": {},
   "outputs": [],
   "source": [
    "def solution(board) :\n",
    "    answer = 0\n",
    "    \n",
    "    for i in range(1, len(board)) :\n",
    "        for j in range(1, len(board[i])) :\n",
    "            candi = [board[i-1][j-1], board[i-1][j], board[i][j-1]]\n",
    "            min_ = min(candi)\n",
    "\n",
    "            if not 0 in candi and board[i][j] != 0:\n",
    "                board[i][j] = min_+1    \n",
    "                \n",
    "    max_ = max(board[0])\n",
    "\n",
    "    for k in range(1, len(board)) :\n",
    "        new = max(board[k])\n",
    "\n",
    "        if max_ < new :\n",
    "            max_ = new\n",
    "    \n",
    "    answer = max_**2\n",
    "    \n",
    "    return answer"
   ]
  }
 ],
 "metadata": {
  "kernelspec": {
   "display_name": "Python 3",
   "language": "python",
   "name": "python3"
  },
  "language_info": {
   "codemirror_mode": {
    "name": "ipython",
    "version": 3
   },
   "file_extension": ".py",
   "mimetype": "text/x-python",
   "name": "python",
   "nbconvert_exporter": "python",
   "pygments_lexer": "ipython3",
   "version": "3.7.3"
  }
 },
 "nbformat": 4,
 "nbformat_minor": 2
}
