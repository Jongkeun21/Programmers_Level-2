{
 "cells": [
  {
   "cell_type": "code",
   "execution_count": 46,
   "metadata": {},
   "outputs": [],
   "source": [
    "from itertools import combinations\n",
    "\n",
    "class data :\n",
    "    rows = 0\n",
    "    cols = 0\n",
    "    range_ = 0\n",
    "    list_ = []\n",
    "    relation = []\n",
    "\n",
    "def check(cols):\n",
    "    temp = [tuple([item[idx] for idx in cols]) for item in data.relation]\n",
    "    \n",
    "    if len(set(temp)) != data.rows:\n",
    "        flag = False\n",
    "    else: \n",
    "        flag = True\n",
    "        \n",
    "    return flag\n",
    "\n",
    "def solution(relation) :\n",
    "    data.rows = len(relation)\n",
    "    data.cols = len(relation[0])\n",
    "    data.range_ = range(data.cols)\n",
    "    data.relation = relation\n",
    "\n",
    "    for i in range(1, data.cols+1):\n",
    "        comb = combinations(data.range_, i)\n",
    "        for idx in list(comb):\n",
    "            if check(idx):\n",
    "                data.list_.append(set(idx))\n",
    "\n",
    "    del_ = set()\n",
    "    \n",
    "    for x in data.list_ :\n",
    "        for y in data.list_ :\n",
    "            if x.issubset(y) and x != y :\n",
    "                del_.add(data.list_.index(y))\n",
    "                \n",
    "    return len(data.list_)-len(del_)"
   ]
  }
 ],
 "metadata": {
  "kernelspec": {
   "display_name": "Python 3",
   "language": "python",
   "name": "python3"
  },
  "language_info": {
   "codemirror_mode": {
    "name": "ipython",
    "version": 3
   },
   "file_extension": ".py",
   "mimetype": "text/x-python",
   "name": "python",
   "nbconvert_exporter": "python",
   "pygments_lexer": "ipython3",
   "version": "3.7.3"
  }
 },
 "nbformat": 4,
 "nbformat_minor": 2
}
