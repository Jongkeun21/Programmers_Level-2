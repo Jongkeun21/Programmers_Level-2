{
 "cells": [
  {
   "cell_type": "code",
   "execution_count": null,
   "metadata": {},
   "outputs": [],
   "source": [
    "def solution(phone_book) :\n",
    "    phone_book.sort()\n",
    "    min = 0\n",
    "    max = 0\n",
    "            \n",
    "    for i in range(len(phone_book)-1) :\n",
    "        total = 0\n",
    "        min = phone_book[i]\n",
    "        max = phone_book[i+1]\n",
    "        \n",
    "        if len(min) > len(max) :\n",
    "            min = phone_book[i+1]\n",
    "            max = phone_book[i]\n",
    "        \n",
    "        for j in range(len(min)) :\n",
    "            if max[j] == min[j] :\n",
    "                total += 1\n",
    "                \n",
    "        if total < len(min) :\n",
    "            answer = True\n",
    "        else :\n",
    "            answer = False\n",
    "            break\n",
    "            \n",
    "    return answer"
   ]
  }
 ],
 "metadata": {
  "kernelspec": {
   "display_name": "Python 3",
   "language": "python",
   "name": "python3"
  },
  "language_info": {
   "codemirror_mode": {
    "name": "ipython",
    "version": 3
   },
   "file_extension": ".py",
   "mimetype": "text/x-python",
   "name": "python",
   "nbconvert_exporter": "python",
   "pygments_lexer": "ipython3",
   "version": "3.7.3"
  }
 },
 "nbformat": 4,
 "nbformat_minor": 2
}
