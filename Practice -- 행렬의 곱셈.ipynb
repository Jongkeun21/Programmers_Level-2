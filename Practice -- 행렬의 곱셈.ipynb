{
 "cells": [
  {
   "cell_type": "code",
   "execution_count": 48,
   "metadata": {},
   "outputs": [],
   "source": [
    "def solution(arr1, arr2) :\n",
    "    arr3 = []\n",
    "    for i in range(len(arr2[0])) :\n",
    "        index = []\n",
    "        for j in range(len(arr2)) :\n",
    "            index.append(arr2[j][i])\n",
    "\n",
    "        arr3.append(index)\n",
    "\n",
    "    total = []\n",
    "    for i in range(len(arr1)) :\n",
    "        result = []\n",
    "        for j in range(len(arr3)) :\n",
    "            sum_ = []\n",
    "            for k in range(len(arr3[j])) :\n",
    "                sum_.append(arr1[i][k]*arr3[j][k])\n",
    "            result.append(sum(sum_))\n",
    "        total.append(result)\n",
    "        \n",
    "    return total"
   ]
  }
 ],
 "metadata": {
  "kernelspec": {
   "display_name": "Python 3",
   "language": "python",
   "name": "python3"
  },
  "language_info": {
   "codemirror_mode": {
    "name": "ipython",
    "version": 3
   },
   "file_extension": ".py",
   "mimetype": "text/x-python",
   "name": "python",
   "nbconvert_exporter": "python",
   "pygments_lexer": "ipython3",
   "version": "3.7.3"
  }
 },
 "nbformat": 4,
 "nbformat_minor": 2
}
