{
 "cells": [
  {
   "cell_type": "markdown",
   "metadata": {},
   "source": [
    "-- LZW 압축 --\n",
    "\n",
    "1. 길이가 1인 모든 단어를 포함하도록 사전을 초기화\n",
    "2. 사전에서 현재 입력과 일치하는 가장 긴 문자열 w 탐색\n",
    "3. w에 해당하는 사전의 색인 번호를 출력하고, 입력에서 w 제거\n",
    "4. 입력에서 처리되지 않은 다음 글자(c)가 남아있다면, w+c에 해당하는 단어를 사전에 등록\n",
    "5. 단계 2로 돌아감"
   ]
  },
  {
   "cell_type": "code",
   "execution_count": 3,
   "metadata": {},
   "outputs": [],
   "source": [
    "def solution(msg) :\n",
    "    dic = {}\n",
    "    alphabets = \"ABCDEFGHIJKLMNOPQRSTUVWXYZ\"\n",
    "\n",
    "    for idx, alpha in enumerate(alphabets) :\n",
    "        dic[alpha] = idx+1\n",
    "        \n",
    "    start = 0\n",
    "    answer = []\n",
    "\n",
    "    while start < len(msg) :\n",
    "        end = start\n",
    "\n",
    "        while msg[start:end+1] in dic.keys() and end < len(msg) :\n",
    "            end += 1\n",
    "\n",
    "        answer.append(dic[msg[start:end]])\n",
    "        dic[msg[start:end+1]] = len(dic)+1\n",
    "\n",
    "        start = end\n",
    "\n",
    "    return answer"
   ]
  }
 ],
 "metadata": {
  "kernelspec": {
   "display_name": "Python 3",
   "language": "python",
   "name": "python3"
  },
  "language_info": {
   "codemirror_mode": {
    "name": "ipython",
    "version": 3
   },
   "file_extension": ".py",
   "mimetype": "text/x-python",
   "name": "python",
   "nbconvert_exporter": "python",
   "pygments_lexer": "ipython3",
   "version": "3.7.3"
  }
 },
 "nbformat": 4,
 "nbformat_minor": 2
}
