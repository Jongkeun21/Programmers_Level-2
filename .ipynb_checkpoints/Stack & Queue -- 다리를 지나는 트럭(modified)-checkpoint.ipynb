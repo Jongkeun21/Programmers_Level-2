{
 "cells": [
  {
   "cell_type": "code",
   "execution_count": 39,
   "metadata": {},
   "outputs": [],
   "source": [
    "def solution(bridge_length, weight, truck_weights) :\n",
    "    answer = 0\n",
    "    count = []\n",
    "    ing = []\n",
    "    done = []\n",
    "    flag = len(truck_weights)\n",
    "\n",
    "    while True :        \n",
    "        answer += 1\n",
    "\n",
    "        if len(done) == flag :\n",
    "            break\n",
    "\n",
    "        if len(truck_weights) > 0 :\n",
    "            if sum(ing)+truck_weights[0] <= weight :\n",
    "                ing.append(truck_weights.pop(0))\n",
    "                count.append(0)\n",
    "\n",
    "        add(count, 1)\n",
    "\n",
    "        if count[0] == bridge_length :\n",
    "            count.pop(0)\n",
    "            done.append(ing.pop(0))\n",
    "    \n",
    "    return answer"
   ]
  }
 ],
 "metadata": {
  "kernelspec": {
   "display_name": "Python 3",
   "language": "python",
   "name": "python3"
  },
  "language_info": {
   "codemirror_mode": {
    "name": "ipython",
    "version": 3
   },
   "file_extension": ".py",
   "mimetype": "text/x-python",
   "name": "python",
   "nbconvert_exporter": "python",
   "pygments_lexer": "ipython3",
   "version": "3.7.3"
  }
 },
 "nbformat": 4,
 "nbformat_minor": 2
}
