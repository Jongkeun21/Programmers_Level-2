{
 "cells": [
  {
   "cell_type": "code",
   "execution_count": null,
   "metadata": {},
   "outputs": [],
   "source": [
    "from itertools import permutations\n",
    "\n",
    "def solution(baseball) :\n",
    "    scores = []\n",
    "    strikes = []\n",
    "    balls = []\n",
    "    possible = []\n",
    "    \n",
    "    inputs = list(\"123456789\")\n",
    "    kinds = list(map(''.join, permutations(inputs, 3)))\n",
    "\n",
    "    for i in range(len(baseball)) :\n",
    "        scores.append(list(str(baseball[i][0])))\n",
    "        strikes.append(baseball[i][1])\n",
    "        balls.append(baseball[i][2])\n",
    "\n",
    "    for i in range(len(kinds)) :\n",
    "        stkCnt = [0 for col in range(len(scores))]\n",
    "        balCnt = [0 for col in range(len(scores))]\n",
    "        for j in range(len(kinds[i])) :\n",
    "            for k in range(len(scores)) :\n",
    "                if kinds[i][j] == scores[k][j] :\n",
    "                    stkCnt[k] += 1\n",
    "                elif kinds[i][j] in scores[k] :\n",
    "                    balCnt[k] += 1\n",
    "        if stkCnt == strikes and balCnt == balls :\n",
    "            possible.append(kinds[i])\n",
    "    \n",
    "    answer = len(possible)\n",
    "    return answer"
   ]
  }
 ],
 "metadata": {
  "kernelspec": {
   "display_name": "Python 3",
   "language": "python",
   "name": "python3"
  },
  "language_info": {
   "codemirror_mode": {
    "name": "ipython",
    "version": 3
   },
   "file_extension": ".py",
   "mimetype": "text/x-python",
   "name": "python",
   "nbconvert_exporter": "python",
   "pygments_lexer": "ipython3",
   "version": "3.7.3"
  }
 },
 "nbformat": 4,
 "nbformat_minor": 2
}
