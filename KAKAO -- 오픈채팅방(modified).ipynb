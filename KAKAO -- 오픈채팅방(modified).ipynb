{
 "cells": [
  {
   "cell_type": "code",
   "execution_count": 1,
   "metadata": {},
   "outputs": [],
   "source": [
    "def solution(record) :\n",
    "    answer = []\n",
    "    \n",
    "    new_ = []\n",
    "    dic = {}\n",
    "\n",
    "    for string in record :\n",
    "        split = string.split()\n",
    "\n",
    "        if split[0] == 'Enter' :\n",
    "            dic[split[1]] = split[2]\n",
    "        elif split[0] == 'Leave' :\n",
    "            pass\n",
    "        else :\n",
    "            dic[split[1]] = split[2]\n",
    "\n",
    "        new_.append(split)\n",
    "        \n",
    "    for list_ in new_ :\n",
    "        if list_[0] == 'Enter' :\n",
    "            status_ = '들어왔'\n",
    "            answer.append('{name}님이 {status}습니다.'.format(name=dic[list_[1]], status=status_))\n",
    "        elif list_[0] == 'Leave' :\n",
    "            status_ = '나갔'\n",
    "            answer.append('{name}님이 {status}습니다.'.format(name=dic[list_[1]], status=status_))\n",
    "        else :\n",
    "            pass\n",
    "    \n",
    "    return answer"
   ]
  }
 ],
 "metadata": {
  "kernelspec": {
   "display_name": "Python 3",
   "language": "python",
   "name": "python3"
  },
  "language_info": {
   "codemirror_mode": {
    "name": "ipython",
    "version": 3
   },
   "file_extension": ".py",
   "mimetype": "text/x-python",
   "name": "python",
   "nbconvert_exporter": "python",
   "pygments_lexer": "ipython3",
   "version": "3.7.3"
  }
 },
 "nbformat": 4,
 "nbformat_minor": 2
}
