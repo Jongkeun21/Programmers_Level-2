{
 "cells": [
  {
   "cell_type": "code",
   "execution_count": null,
   "metadata": {},
   "outputs": [],
   "source": [
    "def solution(clothes):\n",
    "    sortedClothes = []\n",
    "    count = 0\n",
    "    num = 0\n",
    "    result = 1\n",
    "\n",
    "    for j in range(len(clothes)) :\n",
    "        sortedClothes.append([clothes[j][1], clothes[j][0]])\n",
    "\n",
    "    sortedClothes.sort()\n",
    "    \n",
    "    for k in range(len(sortedClothes)-1) :\n",
    "        if sortedClothes[k][0] != sortedClothes[k+1][0] :\n",
    "            count += 1\n",
    "\n",
    "    part = [1 for col in range(count+1)]\n",
    "    \n",
    "    for k in range(len(sortedClothes)-1) :\n",
    "        if sortedClothes[k][0] == sortedClothes[k+1][0] :\n",
    "            part[num] += 1\n",
    "            print(num)\n",
    "        else :\n",
    "            num += 1\n",
    "            \n",
    "    for l in range(len(part)) :\n",
    "        result *= (part[l]+1)\n",
    "            \n",
    "    answer = result - 1\n",
    "    \n",
    "    return answer"
   ]
  }
 ],
 "metadata": {
  "kernelspec": {
   "display_name": "Python 3",
   "language": "python",
   "name": "python3"
  },
  "language_info": {
   "codemirror_mode": {
    "name": "ipython",
    "version": 3
   },
   "file_extension": ".py",
   "mimetype": "text/x-python",
   "name": "python",
   "nbconvert_exporter": "python",
   "pygments_lexer": "ipython3",
   "version": "3.7.3"
  }
 },
 "nbformat": 4,
 "nbformat_minor": 2
}
