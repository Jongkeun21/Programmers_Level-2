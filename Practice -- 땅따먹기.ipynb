{
 "cells": [
  {
   "cell_type": "code",
   "execution_count": null,
   "metadata": {},
   "outputs": [],
   "source": [
    "def solution(land) :\n",
    "    for i in range(len(land)-1) :\n",
    "        a = [0 for col in range(len(land[0]))]\n",
    "        for j in range(len(land[i])) :\n",
    "            for k in range(len(land[i+1])) :\n",
    "                max_ = a[k]\n",
    "\n",
    "                if j == k :\n",
    "                    score = 0\n",
    "                else :\n",
    "                    score = land[i][j] + land[i+1][k]\n",
    "\n",
    "                if max_ < score :\n",
    "                    a[k] = score\n",
    "\n",
    "        land[i+1] = a\n",
    "        \n",
    "    return max(land[-1])"
   ]
  }
 ],
 "metadata": {
  "kernelspec": {
   "display_name": "Python 3",
   "language": "python",
   "name": "python3"
  },
  "language_info": {
   "codemirror_mode": {
    "name": "ipython",
    "version": 3
   },
   "file_extension": ".py",
   "mimetype": "text/x-python",
   "name": "python",
   "nbconvert_exporter": "python",
   "pygments_lexer": "ipython3",
   "version": "3.7.3"
  }
 },
 "nbformat": 4,
 "nbformat_minor": 2
}
