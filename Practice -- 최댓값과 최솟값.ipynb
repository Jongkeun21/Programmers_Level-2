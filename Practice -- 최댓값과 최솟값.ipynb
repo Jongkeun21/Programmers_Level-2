{
 "cells": [
  {
   "cell_type": "code",
   "execution_count": 1,
   "metadata": {},
   "outputs": [],
   "source": [
    "def quick(array) :\n",
    "    if len(array) <= 1 :\n",
    "        return array\n",
    "    else :\n",
    "        pivot = int(array[0])\n",
    "        left = [int(element) for element in array[1:] if int(element) < pivot]\n",
    "        right = [int(element) for element in array[1:] if int(element) >= pivot]\n",
    "        \n",
    "        return quick(left) + [pivot] + quick(right)\n",
    "    \n",
    "def solution(s) :\n",
    "    s_ = s.split(\" \")\n",
    "    s__ = quick(s_)\n",
    "    \n",
    "    return str(s__[0]) + \" \" + str(s__[-1])"
   ]
  }
 ],
 "metadata": {
  "kernelspec": {
   "display_name": "Python 3",
   "language": "python",
   "name": "python3"
  },
  "language_info": {
   "codemirror_mode": {
    "name": "ipython",
    "version": 3
   },
   "file_extension": ".py",
   "mimetype": "text/x-python",
   "name": "python",
   "nbconvert_exporter": "python",
   "pygments_lexer": "ipython3",
   "version": "3.7.3"
  }
 },
 "nbformat": 4,
 "nbformat_minor": 2
}
