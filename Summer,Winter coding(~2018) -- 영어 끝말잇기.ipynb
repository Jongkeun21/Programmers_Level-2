{
 "cells": [
  {
   "cell_type": "markdown",
   "metadata": {},
   "source": [
    "1번부터 차례로 단어를 말한다.\n",
    "마지막 사람 다음에는 다시 1번으로 돌아간다.\n",
    "앞사람이 말한 단어의 마지막 문자로 시작하는 단어를 말한다.\n",
    "이전에 등장한 단어는 사용할 수 없다.\n",
    "한 글자인 단어는 인정되지 않는다.\n",
    "\n",
    "가장 먼저 탈락하는 사람과, 자신의 몇 번째 차례에 탈락하는지 구해서 return\n",
    "아무도 탈락하지 않으면 [0,0] return"
   ]
  },
  {
   "cell_type": "code",
   "execution_count": 59,
   "metadata": {},
   "outputs": [],
   "source": [
    "def solution(n, words) :\n",
    "    dic = {}\n",
    "\n",
    "    for word in words :\n",
    "        dic[word] = 0\n",
    "\n",
    "    dic[words[0]] += 1\n",
    "    flag = True\n",
    "\n",
    "    for i in range(1, len(words)) :\n",
    "        if dic[words[i]] != 0 or words[i][0] != words[i-1][-1] :\n",
    "            total = i\n",
    "            flag = False\n",
    "            break\n",
    "        else :\n",
    "            dic[words[i]] += 1\n",
    "\n",
    "    if flag :\n",
    "        answer = [0, 0]\n",
    "    else :\n",
    "        answer = [total%n+1, total//n+1]\n",
    "        \n",
    "    return answer"
   ]
  }
 ],
 "metadata": {
  "kernelspec": {
   "display_name": "Python 3",
   "language": "python",
   "name": "python3"
  },
  "language_info": {
   "codemirror_mode": {
    "name": "ipython",
    "version": 3
   },
   "file_extension": ".py",
   "mimetype": "text/x-python",
   "name": "python",
   "nbconvert_exporter": "python",
   "pygments_lexer": "ipython3",
   "version": "3.7.3"
  }
 },
 "nbformat": 4,
 "nbformat_minor": 2
}
