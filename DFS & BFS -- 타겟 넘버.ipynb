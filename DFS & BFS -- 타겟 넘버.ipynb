{
 "cells": [
  {
   "cell_type": "code",
   "execution_count": 1,
   "metadata": {},
   "outputs": [],
   "source": [
    "import numpy as np"
   ]
  },
  {
   "cell_type": "code",
   "execution_count": 107,
   "metadata": {},
   "outputs": [],
   "source": [
    "numbers = [1, 2, 3, 4, 5]\n",
    "# numbers = [1 for col in range(20)]\n",
    "target = 3"
   ]
  },
  {
   "cell_type": "code",
   "execution_count": 108,
   "metadata": {},
   "outputs": [],
   "source": [
    "operator = [-1, +1]"
   ]
  },
  {
   "cell_type": "code",
   "execution_count": 53,
   "metadata": {},
   "outputs": [
    {
     "data": {
      "text/plain": [
       "1048576"
      ]
     },
     "execution_count": 53,
     "metadata": {},
     "output_type": "execute_result"
    }
   ],
   "source": [
    "pow(2, 20)"
   ]
  },
  {
   "cell_type": "code",
   "execution_count": 111,
   "metadata": {},
   "outputs": [],
   "source": [
    "kinds = [[] for col in range(pow(2, len(numbers)))]\n",
    "for j in range(pow(2, len(numbers))) :\n",
    "    for i in range(len(numbers)) :\n",
    "        if (j>>i)&1 == 0 :\n",
    "            kinds[j].append(operator[0])\n",
    "        else :\n",
    "            kinds[j].append(operator[1])\n",
    "#         kinds[j].append((j >> i) & 1)"
   ]
  },
  {
   "cell_type": "code",
   "execution_count": 112,
   "metadata": {},
   "outputs": [
    {
     "name": "stdout",
     "output_type": "stream",
     "text": [
      "[[-1, -1, -1, -1, -1], [1, -1, -1, -1, -1], [-1, 1, -1, -1, -1], [1, 1, -1, -1, -1], [-1, -1, 1, -1, -1], [1, -1, 1, -1, -1], [-1, 1, 1, -1, -1], [1, 1, 1, -1, -1], [-1, -1, -1, 1, -1], [1, -1, -1, 1, -1], [-1, 1, -1, 1, -1], [1, 1, -1, 1, -1], [-1, -1, 1, 1, -1], [1, -1, 1, 1, -1], [-1, 1, 1, 1, -1], [1, 1, 1, 1, -1], [-1, -1, -1, -1, 1], [1, -1, -1, -1, 1], [-1, 1, -1, -1, 1], [1, 1, -1, -1, 1], [-1, -1, 1, -1, 1], [1, -1, 1, -1, 1], [-1, 1, 1, -1, 1], [1, 1, 1, -1, 1], [-1, -1, -1, 1, 1], [1, -1, -1, 1, 1], [-1, 1, -1, 1, 1], [1, 1, -1, 1, 1], [-1, -1, 1, 1, 1], [1, -1, 1, 1, 1], [-1, 1, 1, 1, 1], [1, 1, 1, 1, 1]]\n"
     ]
    }
   ],
   "source": [
    "print(kinds)"
   ]
  },
  {
   "cell_type": "code",
   "execution_count": 64,
   "metadata": {},
   "outputs": [],
   "source": [
    "for i in range(len(kinds)) :\n",
    "    for j in range(len(kinds[i])) :\n",
    "        if kinds[i][j] == 0 :\n",
    "            kinds[i][j] = operator[0]\n",
    "        else :\n",
    "            kinds[i][j] = operator[1]"
   ]
  },
  {
   "cell_type": "code",
   "execution_count": 65,
   "metadata": {},
   "outputs": [
    {
     "name": "stdout",
     "output_type": "stream",
     "text": [
      "[[-1, -1, -1, -1, -1], [1, -1, -1, -1, -1], [-1, 1, -1, -1, -1], [1, 1, -1, -1, -1], [-1, -1, 1, -1, -1], [1, -1, 1, -1, -1], [-1, 1, 1, -1, -1], [1, 1, 1, -1, -1], [-1, -1, -1, 1, -1], [1, -1, -1, 1, -1], [-1, 1, -1, 1, -1], [1, 1, -1, 1, -1], [-1, -1, 1, 1, -1], [1, -1, 1, 1, -1], [-1, 1, 1, 1, -1], [1, 1, 1, 1, -1], [-1, -1, -1, -1, 1], [1, -1, -1, -1, 1], [-1, 1, -1, -1, 1], [1, 1, -1, -1, 1], [-1, -1, 1, -1, 1], [1, -1, 1, -1, 1], [-1, 1, 1, -1, 1], [1, 1, 1, -1, 1], [-1, -1, -1, 1, 1], [1, -1, -1, 1, 1], [-1, 1, -1, 1, 1], [1, 1, -1, 1, 1], [-1, -1, 1, 1, 1], [1, -1, 1, 1, 1], [-1, 1, 1, 1, 1], [1, 1, 1, 1, 1]]\n"
     ]
    }
   ],
   "source": [
    "print(kinds)"
   ]
  },
  {
   "cell_type": "code",
   "execution_count": 69,
   "metadata": {},
   "outputs": [],
   "source": [
    "result = 0\n",
    "for i in range(len(kinds)) :\n",
    "    if np.matmul(kinds[i], numbers) == target :\n",
    "        result += 1"
   ]
  },
  {
   "cell_type": "code",
   "execution_count": 113,
   "metadata": {},
   "outputs": [],
   "source": [
    "import numpy as np\n",
    "def solution(numbers, target) :\n",
    "    operator = [-1, +1]\n",
    "    count = pow(2, len(numbers))\n",
    "    \n",
    "    kinds = [[] for col in range(count)]\n",
    "    for j in range(count) :\n",
    "        for i in range(len(numbers)) :\n",
    "            if (j>>i)&1 == 0 :\n",
    "                kinds[j].append(operator[0])\n",
    "            else :\n",
    "                kinds[j].append(operator[1])\n",
    "            \n",
    "    answer = 0\n",
    "    for i in range(len(kinds)) :\n",
    "        if np.matmul(kinds[i], numbers) == target :\n",
    "            answer += 1\n",
    "            \n",
    "    return answer"
   ]
  },
  {
   "cell_type": "code",
   "execution_count": 114,
   "metadata": {},
   "outputs": [],
   "source": [
    "numbers = [1,1,1,1,1]\n",
    "target = 3"
   ]
  },
  {
   "cell_type": "code",
   "execution_count": 88,
   "metadata": {},
   "outputs": [],
   "source": [
    "def REC(i, numbers, target, result) :\n",
    "    if i == pow(2, len(numbers)) :\n",
    "        print(i)\n",
    "        return result\n",
    "    \n",
    "    Bin = []\n",
    "    for j in range(len(numbers)) :\n",
    "        if (i>>j)&1 == 0 :\n",
    "            Bin.append(operator[0])\n",
    "        else :\n",
    "            Bin.append(operator[1])   \n",
    "            \n",
    "    if np.matmul(Bin, numbers) == target :\n",
    "        result += 1\n",
    "        \n",
    "    REC(i+1, numbers, target, result)"
   ]
  },
  {
   "cell_type": "code",
   "execution_count": 116,
   "metadata": {},
   "outputs": [],
   "source": [
    "numbers = [1,3,4,6,1,5,6,1,3,5,5,3]\n",
    "target = 3"
   ]
  },
  {
   "cell_type": "code",
   "execution_count": 77,
   "metadata": {},
   "outputs": [],
   "source": [
    "import numpy as np\n",
    "\n",
    "def makeOp(numbers, count) :\n",
    "    num = 0\n",
    "    operator = [-1, +1]\n",
    "    operations = []\n",
    "    while num < count :\n",
    "        randOp = np.random.choice(operator, size=len(numbers), replace=True)\n",
    "        randOp = list(randOp)\n",
    "        if not randOp in operations :\n",
    "            operations.append(randOp)\n",
    "            num += 1\n",
    "            \n",
    "    return operations\n",
    "\n",
    "def solution(numbers, target) :\n",
    "    answer = 0\n",
    "    count = pow(2, len(numbers))\n",
    "    \n",
    "    operations = makeOp(numbers, count)\n",
    "    \n",
    "    for i in range(len(operations)) :\n",
    "        if np.matmul(operations[i], numbers) == target :\n",
    "            answer += 1\n",
    "            \n",
    "    return answer"
   ]
  },
  {
   "cell_type": "code",
   "execution_count": 117,
   "metadata": {},
   "outputs": [
    {
     "data": {
      "text/plain": [
       "222"
      ]
     },
     "execution_count": 117,
     "metadata": {},
     "output_type": "execute_result"
    }
   ],
   "source": [
    "solution(numbers, target)"
   ]
  },
  {
   "cell_type": "code",
   "execution_count": null,
   "metadata": {},
   "outputs": [],
   "source": []
  }
 ],
 "metadata": {
  "kernelspec": {
   "display_name": "Python 3",
   "language": "python",
   "name": "python3"
  },
  "language_info": {
   "codemirror_mode": {
    "name": "ipython",
    "version": 3
   },
   "file_extension": ".py",
   "mimetype": "text/x-python",
   "name": "python",
   "nbconvert_exporter": "python",
   "pygments_lexer": "ipython3",
   "version": "3.7.3"
  }
 },
 "nbformat": 4,
 "nbformat_minor": 2
}
