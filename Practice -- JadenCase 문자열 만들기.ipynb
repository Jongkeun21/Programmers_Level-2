{
 "cells": [
  {
   "cell_type": "code",
   "execution_count": 15,
   "metadata": {},
   "outputs": [],
   "source": [
    "def solution(s) :\n",
    "    alpha = \"abcdefghijklmnopqrstuvwxyz\"\n",
    "    upper_ = alpha.upper()\n",
    "\n",
    "    dic = {}\n",
    "    for i in range(len(alpha)) :\n",
    "        dic[alpha[i]] = upper_[i]\n",
    "\n",
    "    s = list(s.lower())\n",
    "\n",
    "    if s[0] in dic :\n",
    "        s[0] = dic[s[0]]\n",
    "\n",
    "    answer = s[0]\n",
    "\n",
    "    if len(s) > 1 :\n",
    "        for j in range(1, len(s)) :\n",
    "            if s[j-1] == ' ' and s[j] in dic :\n",
    "                s[j] = dic[s[j]]\n",
    "\n",
    "            answer += s[j]\n",
    "\n",
    "    return answer"
   ]
  }
 ],
 "metadata": {
  "kernelspec": {
   "display_name": "Python 3",
   "language": "python",
   "name": "python3"
  },
  "language_info": {
   "codemirror_mode": {
    "name": "ipython",
    "version": 3
   },
   "file_extension": ".py",
   "mimetype": "text/x-python",
   "name": "python",
   "nbconvert_exporter": "python",
   "pygments_lexer": "ipython3",
   "version": "3.7.3"
  }
 },
 "nbformat": 4,
 "nbformat_minor": 2
}
