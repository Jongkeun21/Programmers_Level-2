{
 "cells": [
  {
   "cell_type": "code",
   "execution_count": 97,
   "metadata": {},
   "outputs": [],
   "source": [
    "class findLargest(object) :\n",
    "    def __init__(self, number, k) :\n",
    "        self.number = number\n",
    "        self.k = k\n",
    "        \n",
    "    def findMaxTupple(self, list_) :\n",
    "        for i in range(9, -1, -1) :\n",
    "            i = str(i)\n",
    "            \n",
    "            if i in list_ :\n",
    "                _max = (i, list_.index(i))\n",
    "                break\n",
    "        \n",
    "        return _max\n",
    "    \n",
    "    def findAnswer(self) :\n",
    "        answer = ''\n",
    "        total = len(self.number)-self.k\n",
    "        start = 0\n",
    "        \n",
    "        for i in range(total-1,-1,-1) :\n",
    "            index = self.findMaxTupple(self.number[start:len(self.number[i:])])\n",
    "            start += index[1]+1\n",
    "            answer += index[0]\n",
    "            \n",
    "        return answer\n",
    "    \n",
    "def solution(number, k) :\n",
    "    largest = findLargest(number, k)\n",
    "    \n",
    "    return largest.findAnswer()"
   ]
  }
 ],
 "metadata": {
  "kernelspec": {
   "display_name": "Python 3",
   "language": "python",
   "name": "python3"
  },
  "language_info": {
   "codemirror_mode": {
    "name": "ipython",
    "version": 3
   },
   "file_extension": ".py",
   "mimetype": "text/x-python",
   "name": "python",
   "nbconvert_exporter": "python",
   "pygments_lexer": "ipython3",
   "version": "3.7.3"
  }
 },
 "nbformat": 4,
 "nbformat_minor": 2
}
