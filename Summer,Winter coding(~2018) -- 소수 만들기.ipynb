{
 "cells": [
  {
   "cell_type": "code",
   "execution_count": 4,
   "metadata": {},
   "outputs": [],
   "source": [
    "import itertools\n",
    "\n",
    "def prime(number) :\n",
    "    flag = False\n",
    "    \n",
    "    for i in range(2, int(number**0.5)+1) :\n",
    "        if number%i == 0 :\n",
    "            flag = True\n",
    "            break\n",
    "            \n",
    "    return flag\n",
    "\n",
    "def solution(nums) :\n",
    "    answer = 0\n",
    "    combs = list(itertools.combinations(nums, 3))\n",
    "    candi = [0 for col in range(len(combs))]\n",
    "    \n",
    "    for i in range(len(combs)) :\n",
    "        candi[i] = sum(combs[i])\n",
    "    \n",
    "    for num in candi :\n",
    "        if not prime(num) :\n",
    "            answer += 1\n",
    "            \n",
    "    return answer"
   ]
  }
 ],
 "metadata": {
  "kernelspec": {
   "display_name": "Python 3",
   "language": "python",
   "name": "python3"
  },
  "language_info": {
   "codemirror_mode": {
    "name": "ipython",
    "version": 3
   },
   "file_extension": ".py",
   "mimetype": "text/x-python",
   "name": "python",
   "nbconvert_exporter": "python",
   "pygments_lexer": "ipython3",
   "version": "3.7.3"
  }
 },
 "nbformat": 4,
 "nbformat_minor": 2
}
