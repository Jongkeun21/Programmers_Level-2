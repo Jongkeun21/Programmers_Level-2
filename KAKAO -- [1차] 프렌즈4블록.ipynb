{
 "cells": [
  {
   "cell_type": "code",
   "execution_count": 518,
   "metadata": {},
   "outputs": [],
   "source": [
    "class friends :\n",
    "    set_ = set()\n",
    "    board = []\n",
    "    removed = 0\n",
    "    \n",
    "def makeSet(i, j) :\n",
    "    if j >= len(friends.board[i+1])-1 :\n",
    "        return\n",
    "    \n",
    "    if friends.board[i][j] == friends.board[i][j+1] and friends.board[i][j] == friends.board[i+1][j] and friends.board[i][j] == friends.board[i+1][j+1] :\n",
    "        for x, y in [(i, j), (i, j+1), (i+1, j), (i+1, j+1)] :\n",
    "            friends.set_.add((x,y))\n",
    "                    \n",
    "def remove() :\n",
    "    for i, j in reversed(sorted(friends.set_)) :\n",
    "        friends.board[i].pop(j)\n",
    "        friends.removed += 1\n",
    "        \n",
    "    friends.set_ = set()                   \n",
    "\n",
    "def solution(m, n, board) :\n",
    "    friends.board = [[board[i][j] for i in reversed(range(m))] for j in range(n)]\n",
    "    \n",
    "    while True :\n",
    "        for i in range(len(friends.board)-1) :\n",
    "            for j in range(len(friends.board[i])-1) :\n",
    "                makeSet(i, j)\n",
    "        \n",
    "        if not friends.set_ :\n",
    "            break\n",
    "        \n",
    "        remove()\n",
    "        \n",
    "    return friends.removed"
   ]
  }
 ],
 "metadata": {
  "kernelspec": {
   "display_name": "Python 3",
   "language": "python",
   "name": "python3"
  },
  "language_info": {
   "codemirror_mode": {
    "name": "ipython",
    "version": 3
   },
   "file_extension": ".py",
   "mimetype": "text/x-python",
   "name": "python",
   "nbconvert_exporter": "python",
   "pygments_lexer": "ipython3",
   "version": "3.5.2"
  }
 },
 "nbformat": 4,
 "nbformat_minor": 2
}
