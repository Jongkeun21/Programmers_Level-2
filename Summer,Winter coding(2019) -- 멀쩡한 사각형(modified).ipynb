{
 "cells": [
  {
   "cell_type": "markdown",
   "metadata": {},
   "source": [
    "가로가 w\n",
    "세로가 h\n",
    "종이를 대각선 꼭지점 2개를 잇는 방향으로 잘라 놓음\n",
    "따라서 현재 직사각형 모양의 종이는 크기가 같은 직각삼각형 2개로 나누어진 상태\n",
    "이때, 사용할 수 있는 정사각형의 갯수(1x1 사이즈)"
   ]
  },
  {
   "cell_type": "code",
   "execution_count": null,
   "metadata": {},
   "outputs": [],
   "source": [
    "def cal(n, m) :\n",
    "    max_ = n\n",
    "    min_ = m\n",
    "\n",
    "    if max_ < min_ :\n",
    "        max_, min_ = m, n\n",
    "        \n",
    "    while min_ > 0 :\n",
    "        max_, min_ = min_, max_%min_\n",
    "    \n",
    "    return max_\n",
    "\n",
    "def solution(w, h) :\n",
    "    result = cal(w, h)\n",
    "    answer = w*h - (int(w/result + h/result - 1) * int(w/(w/result)))\n",
    "    \n",
    "    return answer"
   ]
  }
 ],
 "metadata": {
  "kernelspec": {
   "display_name": "Python 3",
   "language": "python",
   "name": "python3"
  },
  "language_info": {
   "codemirror_mode": {
    "name": "ipython",
    "version": 3
   },
   "file_extension": ".py",
   "mimetype": "text/x-python",
   "name": "python",
   "nbconvert_exporter": "python",
   "pygments_lexer": "ipython3",
   "version": "3.7.3"
  }
 },
 "nbformat": 4,
 "nbformat_minor": 2
}
