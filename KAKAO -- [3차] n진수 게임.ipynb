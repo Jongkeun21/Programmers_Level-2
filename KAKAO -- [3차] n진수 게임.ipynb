{
 "cells": [
  {
   "cell_type": "markdown",
   "metadata": {},
   "source": [
    "1. 숫자를 0부터 차례대로 말한다.\n",
    "2.  10 이상의 숫자부터는 한 자리씩 끊어서 말한다.\n",
    "\n",
    "진법 n, 미리 구할 숫자의 갯수 t, 참가 인원 m, 튜브의 순서 p"
   ]
  },
  {
   "cell_type": "code",
   "execution_count": 70,
   "metadata": {},
   "outputs": [],
   "source": [
    "class range_:\n",
    "    range_ = \"0123456789ABCDEF\"\n",
    "\n",
    "def cal(n, number) :\n",
    "    if number == 0 :\n",
    "        result = '0'\n",
    "    else :\n",
    "        result = ''\n",
    "        \n",
    "        while number != 0 :\n",
    "            result = range_.range_[number%n] + result\n",
    "            number = number//n\n",
    "    \n",
    "    return result\n",
    "\n",
    "def solution(n, t, m, p) :\n",
    "    result = []\n",
    "    array = list(cal(n, 0))\n",
    "    count = 0\n",
    "    time = 0\n",
    "\n",
    "    while len(result) != t :\n",
    "    #     print(array)\n",
    "        num = array.pop(0)\n",
    "\n",
    "        if time%m == p-1 :\n",
    "    #         print(num)\n",
    "            result.append(num)\n",
    "\n",
    "        if not array :\n",
    "            count += 1\n",
    "            data = cal(n, count)\n",
    "    #         print(\"count: \", count, \"  data: \", data)\n",
    "            array = list(data)\n",
    "\n",
    "        time += 1\n",
    "\n",
    "    answer = ''\n",
    "\n",
    "    for char in result :\n",
    "        answer += char\n",
    "        \n",
    "    return answer"
   ]
  }
 ],
 "metadata": {
  "kernelspec": {
   "display_name": "Python 3",
   "language": "python",
   "name": "python3"
  },
  "language_info": {
   "codemirror_mode": {
    "name": "ipython",
    "version": 3
   },
   "file_extension": ".py",
   "mimetype": "text/x-python",
   "name": "python",
   "nbconvert_exporter": "python",
   "pygments_lexer": "ipython3",
   "version": "3.7.3"
  }
 },
 "nbformat": 4,
 "nbformat_minor": 2
}
