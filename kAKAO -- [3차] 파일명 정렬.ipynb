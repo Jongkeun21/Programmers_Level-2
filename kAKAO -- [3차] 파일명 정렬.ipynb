{
 "cells": [
  {
   "cell_type": "code",
   "execution_count": 7,
   "metadata": {},
   "outputs": [],
   "source": [
    "def solution(files) :\n",
    "    split_ = [[] for col in range(len(files))]\n",
    "\n",
    "    for idx, file in enumerate(files) :\n",
    "        for i, data in enumerate(file) :\n",
    "            if data.isdigit() :\n",
    "                split_[idx].append(file[:i])\n",
    "                break\n",
    "        for j in range(i, len(file)) :\n",
    "            if not file[j].isdigit() :\n",
    "                split_[idx].append(file[i:j])\n",
    "                break\n",
    "\n",
    "        if file[j].isdigit() :\n",
    "            split_[idx].append(file[i:])\n",
    "        else :\n",
    "            split_[idx].append(file[j:])\n",
    "\n",
    "    split_.sort(key=lambda x: (x[0].upper(), int(x[1])))\n",
    "\n",
    "    answer = ['' for col in range(len(split_))]\n",
    "\n",
    "    for idx, list_ in enumerate(split_) :\n",
    "        result = ''\n",
    "\n",
    "        for data in list_ :\n",
    "            result += data\n",
    "\n",
    "        answer[idx] = result\n",
    "        \n",
    "    return answer"
   ]
  }
 ],
 "metadata": {
  "kernelspec": {
   "display_name": "Python 3",
   "language": "python",
   "name": "python3"
  },
  "language_info": {
   "codemirror_mode": {
    "name": "ipython",
    "version": 3
   },
   "file_extension": ".py",
   "mimetype": "text/x-python",
   "name": "python",
   "nbconvert_exporter": "python",
   "pygments_lexer": "ipython3",
   "version": "3.7.3"
  }
 },
 "nbformat": 4,
 "nbformat_minor": 2
}
