{
 "cells": [
  {
   "cell_type": "code",
   "execution_count": 172,
   "metadata": {},
   "outputs": [],
   "source": [
    "arrangement = \"()(((()())(())()))(())\"\n",
    "# return 17"
   ]
  },
  {
   "cell_type": "code",
   "execution_count": 173,
   "metadata": {},
   "outputs": [],
   "source": [
    "import numpy as np\n",
    "\n",
    "def solution(arrangement) :\n",
    "    answer = 0\n",
    "    stack = []\n",
    "    arrangement = arrangement.replace('()', 'o')\n",
    "    \n",
    "    for char in arrangement :\n",
    "        if char == '(' :\n",
    "            stack.append(char)\n",
    "        if char == ')' :\n",
    "            stack.pop()\n",
    "            answer += 1\n",
    "        if char == 'o' :\n",
    "            answer += len(stack)\n",
    "            \n",
    "    return answer"
   ]
  }
 ],
 "metadata": {
  "kernelspec": {
   "display_name": "Python 3",
   "language": "python",
   "name": "python3"
  },
  "language_info": {
   "codemirror_mode": {
    "name": "ipython",
    "version": 3
   },
   "file_extension": ".py",
   "mimetype": "text/x-python",
   "name": "python",
   "nbconvert_exporter": "python",
   "pygments_lexer": "ipython3",
   "version": "3.7.3"
  }
 },
 "nbformat": 4,
 "nbformat_minor": 2
}
