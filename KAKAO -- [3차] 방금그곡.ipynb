{
 "cells": [
  {
   "cell_type": "markdown",
   "metadata": {},
   "source": [
    "방금그곡 서비스에서는 음악 제목, 재생이 시작되고 끝난 시각, 악보를 제공\n",
    "사용된느 음은 C, C#, D, D#, E, F, F#, G, G#, A, A#, B\n",
    "각 음은 1분에 하나씩 재생\n",
    "음악 길이보다 재생된 시간이 길 때는 음악의 처음부터 반복되어 재생\n",
    "음악 길이보다 재생된 시간이 짧을 때는 처음부터 재생 시간만큼만 재생\n",
    "조건이 일치하는 음악이 여러 개일 때에는 라디오에서 재생된 시간이 제일 긴 음악을 return, 재생 시간도 같으면 먼저 입력된 음악 return\n",
    "조건이 일치하는 음악이 없으면 None을 return"
   ]
  },
  {
   "cell_type": "markdown",
   "metadata": {},
   "source": [
    "musicinfos는 음악이 시작한 시각, 끝난 시각, 제목, 악보 정보가 ,로 구분된 문자열"
   ]
  },
  {
   "cell_type": "code",
   "execution_count": 51,
   "metadata": {},
   "outputs": [],
   "source": [
    "class aMomentAgo:\n",
    "    info = []\n",
    "    title = []\n",
    "    time = []\n",
    "    chords = []\n",
    "\n",
    "def replacement(chord) :\n",
    "    chord = chord.replace('C#', 'c')\n",
    "    chord = chord.replace('D#', 'd')\n",
    "    chord = chord.replace('F#', 'f')\n",
    "    chord = chord.replace('G#', 'g')\n",
    "    chord = chord.replace('A#', 'a')\n",
    "    \n",
    "    return chord\n",
    "\n",
    "def getData(musicinfos) :\n",
    "    for info in musicinfos :\n",
    "        aMomentAgo.info.append(info.split(','))\n",
    "    \n",
    "    for idx, info in enumerate(aMomentAgo.info) :\n",
    "        times = [info[0].split(':'), info[1].split(':')]\n",
    "        aMomentAgo.time.append(((int(times[1][0])-int(times[0][0]))*60)+int(times[1][1])-int(times[0][1]))\n",
    "        aMomentAgo.chords.append(replacement(info[-1]))\n",
    "        aMomentAgo.title.append(info[-2])\n",
    "\n",
    "def play(chord, time) :\n",
    "    length = len(chord)\n",
    "    played = ''\n",
    "    \n",
    "    for i in range(time) :\n",
    "        played += chord[i%length]\n",
    "        \n",
    "    return played\n",
    "\n",
    "def check(m) :\n",
    "    required = []\n",
    "    checked = []\n",
    "    \n",
    "    for idx, chord in enumerate(aMomentAgo.chords) :\n",
    "        if m in play(chord, aMomentAgo.time[idx]) :\n",
    "            if len(required) == 0 :\n",
    "                required.append(aMomentAgo.time[idx])\n",
    "                checked.append(aMomentAgo.title[idx])\n",
    "            else :\n",
    "                if required[-1] < aMomentAgo.time[idx] :\n",
    "                    required.append(aMomentAgo.time[idx])\n",
    "                    checked.append(aMomentAgo.title[idx])\n",
    "            \n",
    "    return checked\n",
    "\n",
    "def solution(m, musicinfos) :\n",
    "    getData(musicinfos)\n",
    "    m = replacement(m)\n",
    "    checked = check(m)\n",
    "    \n",
    "    if len(checked) == 0 :\n",
    "        answer = '(None)'\n",
    "    else :\n",
    "        answer = checked[-1]\n",
    "        \n",
    "    return answer"
   ]
  }
 ],
 "metadata": {
  "kernelspec": {
   "display_name": "Python 3",
   "language": "python",
   "name": "python3"
  },
  "language_info": {
   "codemirror_mode": {
    "name": "ipython",
    "version": 3
   },
   "file_extension": ".py",
   "mimetype": "text/x-python",
   "name": "python",
   "nbconvert_exporter": "python",
   "pygments_lexer": "ipython3",
   "version": "3.7.3"
  }
 },
 "nbformat": 4,
 "nbformat_minor": 2
}
