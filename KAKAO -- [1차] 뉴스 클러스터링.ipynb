{
 "cells": [
  {
   "cell_type": "markdown",
   "metadata": {},
   "source": [
    "자카드 유사도 --> 두 집합의 교집합 크기를 두 집합의 합집합 크기로 나눈 값\n",
    "집합 A와 집합B가 모두 공집합일 경우 자카드 유사도는 1로 정의\n",
    "자카드 유사도에 65536을 곱한 후에 소수점을 버리고 정수부만 return"
   ]
  },
  {
   "cell_type": "code",
   "execution_count": 94,
   "metadata": {},
   "outputs": [],
   "source": [
    "from collections import Counter\n",
    "\n",
    "def solution(str1, str2) :\n",
    "    str1 = list(str1.lower())\n",
    "    str2 = list(str2.lower())\n",
    "\n",
    "    alphabets = \"abcdefghijklmnopqrstuvwxyz\"\n",
    "\n",
    "    new_str1 = []\n",
    "    new_str2 = []\n",
    "\n",
    "    for i in range(len(str1)-1) :\n",
    "        if str1[i] in alphabets and str1[i+1] in alphabets :\n",
    "            new_str1.append(str1[i]+str1[i+1])\n",
    "\n",
    "    for j in range(len(str2)-1) :\n",
    "        if str2[j] in alphabets and str2[j+1] in alphabets :\n",
    "            new_str2.append(str2[j]+str2[j+1])\n",
    "\n",
    "    if new_str1 == new_str2 :\n",
    "        answer = 65536\n",
    "    else :\n",
    "        count1 = Counter(new_str1)\n",
    "        count2 = Counter(new_str2)\n",
    "\n",
    "        intersection = sum(list((count1&count2).values()))\n",
    "        union = sum(list((count1|count2).values()))\n",
    "\n",
    "        answer = int((intersection/union)*65536)\n",
    "\n",
    "    return answer"
   ]
  }
 ],
 "metadata": {
  "kernelspec": {
   "display_name": "Python 3",
   "language": "python",
   "name": "python3"
  },
  "language_info": {
   "codemirror_mode": {
    "name": "ipython",
    "version": 3
   },
   "file_extension": ".py",
   "mimetype": "text/x-python",
   "name": "python",
   "nbconvert_exporter": "python",
   "pygments_lexer": "ipython3",
   "version": "3.7.3"
  }
 },
 "nbformat": 4,
 "nbformat_minor": 2
}
