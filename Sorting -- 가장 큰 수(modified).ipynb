{
 "cells": [
  {
   "cell_type": "code",
   "execution_count": null,
   "metadata": {},
   "outputs": [],
   "source": [
    "def mergeSort(x):\n",
    "    if len(x) > 1:\n",
    "        mid = len(x)//2\n",
    "        lx, rx = x[:mid], x[mid:]\n",
    "        mergeSort(lx)\n",
    "        mergeSort(rx)\n",
    "\n",
    "        li, ri, i = 0, 0, 0\n",
    "        while li < len(lx) and ri < len(rx):\n",
    "            if lx[li] == rx[ri][:len(lx[li])] :\n",
    "                if int(lx[li]+rx[ri]) > int(rx[ri]+lx[li]) :\n",
    "                    x[i] = lx[li]\n",
    "                    li += 1\n",
    "                else :\n",
    "                    x[i] = rx[ri]\n",
    "                    ri += 1\n",
    "            elif lx[li] > rx[ri] :\n",
    "                x[i] = lx[li]\n",
    "                li += 1\n",
    "            else:\n",
    "                x[i] = rx[ri]\n",
    "                ri += 1\n",
    "                    \n",
    "            i += 1\n",
    "        x[i:] = lx[li:] if li != len(lx) else rx[ri:]\n",
    "    return x\n",
    "\n",
    "def solution(numbers) :\n",
    "    answer = ''\n",
    "    \n",
    "    for j in range(len(numbers)) :\n",
    "        numbers[j] = str(numbers[j])\n",
    "    \n",
    "    numbers.sort()\n",
    "    mergeSort(numbers)\n",
    "    \n",
    "    for i in range(len(numbers)) :\n",
    "        answer += numbers[i]\n",
    "        \n",
    "    answer = int(answer)\n",
    "    answer = str(answer)\n",
    "    \n",
    "    return answer"
   ]
  }
 ],
 "metadata": {
  "kernelspec": {
   "display_name": "Python 3",
   "language": "python",
   "name": "python3"
  },
  "language_info": {
   "codemirror_mode": {
    "name": "ipython",
    "version": 3
   },
   "file_extension": ".py",
   "mimetype": "text/x-python",
   "name": "python",
   "nbconvert_exporter": "python",
   "pygments_lexer": "ipython3",
   "version": "3.7.3"
  }
 },
 "nbformat": 4,
 "nbformat_minor": 2
}
