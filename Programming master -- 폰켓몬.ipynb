{
 "cells": [
  {
   "cell_type": "markdown",
   "metadata": {},
   "source": [
    "자신의 연구실에 있는 총 N 마리의 폰켓몬중 N/2마리를 가져가도 좋다\n",
    "같은 종류의 폰켓몬은 같은 번호를 가짐\n",
    "[3번, 1번, 2번, 3번] --> 3번 폰켓몬 두 마리, 1번 폰켓몬 한 마리, 2번 폰켓몬 1마리\n",
    "가장 많은 종류의 폰켓몬을 선택하는 방법을 찾고, 폰켓몬 종류의 개수를 return"
   ]
  },
  {
   "cell_type": "code",
   "execution_count": 8,
   "metadata": {},
   "outputs": [],
   "source": [
    "from collections import Counter\n",
    "\n",
    "def solution(nums) :\n",
    "    length = len(nums) // 2\n",
    "    select = [nums.pop()]\n",
    "    candi = []\n",
    "\n",
    "    while len(select) != length :\n",
    "        if len(nums) != 0 :\n",
    "            poketmon = nums.pop()\n",
    "\n",
    "            if not poketmon in select :\n",
    "                select.append(poketmon)\n",
    "            else :\n",
    "                candi.append(poketmon)\n",
    "        else :\n",
    "            select.append(candi.pop())\n",
    "            \n",
    "    return len(Counter(select))"
   ]
  }
 ],
 "metadata": {
  "kernelspec": {
   "display_name": "Python 3",
   "language": "python",
   "name": "python3"
  },
  "language_info": {
   "codemirror_mode": {
    "name": "ipython",
    "version": 3
   },
   "file_extension": ".py",
   "mimetype": "text/x-python",
   "name": "python",
   "nbconvert_exporter": "python",
   "pygments_lexer": "ipython3",
   "version": "3.7.3"
  }
 },
 "nbformat": 4,
 "nbformat_minor": 2
}
