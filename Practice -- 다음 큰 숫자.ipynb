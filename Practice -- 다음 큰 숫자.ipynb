{
 "cells": [
  {
   "cell_type": "code",
   "execution_count": 1,
   "metadata": {},
   "outputs": [],
   "source": [
    "from collections import Counter\n",
    "\n",
    "def makeBinary(n) :\n",
    "    binary = []\n",
    "    \n",
    "    while n != 0 :\n",
    "        binary.insert(0, n%2)\n",
    "        n = n//2\n",
    "        \n",
    "    return binary\n",
    "\n",
    "def solution(n) :\n",
    "    answer = 0\n",
    "    count = Counter(makeBinary(n))[1]\n",
    "    \n",
    "    new_ = makeBinary(n+1)\n",
    "\n",
    "    while Counter(new_)[1] != count :\n",
    "        n += 1\n",
    "        new_ = makeBinary(n+1)\n",
    "    \n",
    "    answer = n+1\n",
    "    \n",
    "    return answer"
   ]
  }
 ],
 "metadata": {
  "kernelspec": {
   "display_name": "Python 3",
   "language": "python",
   "name": "python3"
  },
  "language_info": {
   "codemirror_mode": {
    "name": "ipython",
    "version": 3
   },
   "file_extension": ".py",
   "mimetype": "text/x-python",
   "name": "python",
   "nbconvert_exporter": "python",
   "pygments_lexer": "ipython3",
   "version": "3.7.3"
  }
 },
 "nbformat": 4,
 "nbformat_minor": 2
}
