{
 "cells": [
  {
   "cell_type": "code",
   "execution_count": 1,
   "metadata": {},
   "outputs": [],
   "source": [
    "import numpy as np\n",
    "\n",
    "def solution(progresses, speeds) :\n",
    "    answer = []\n",
    "\n",
    "    while len(progresses) > 0 :\n",
    "        stack = []\n",
    "        progresses = list(np.add(progresses, speeds))\n",
    "\n",
    "        for i in range(len(progresses)) :\n",
    "            if progresses[0] >= 100 :\n",
    "                stack.append(progresses.pop(0))\n",
    "                speeds.pop(0)\n",
    "\n",
    "        if len(stack) > 0 :\n",
    "            answer.append(len(stack))\n",
    "    \n",
    "    return answer"
   ]
  },
  {
   "cell_type": "code",
   "execution_count": 19,
   "metadata": {},
   "outputs": [],
   "source": [
    "progresses = [93, 30, 55]\n",
    "speeds = [1, 30, 5]"
   ]
  }
 ],
 "metadata": {
  "kernelspec": {
   "display_name": "Python 3",
   "language": "python",
   "name": "python3"
  },
  "language_info": {
   "codemirror_mode": {
    "name": "ipython",
    "version": 3
   },
   "file_extension": ".py",
   "mimetype": "text/x-python",
   "name": "python",
   "nbconvert_exporter": "python",
   "pygments_lexer": "ipython3",
   "version": "3.7.3"
  }
 },
 "nbformat": 4,
 "nbformat_minor": 2
}
