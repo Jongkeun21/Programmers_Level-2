{
 "cells": [
  {
   "cell_type": "markdown",
   "metadata": {},
   "source": [
    "cacheSize와 cities를 입력받는다.\n",
    "cities는 대소문자 구별을 하지 않는다.\n",
    "입력된 도시이름 배열을 순서대로 처리할 때, \"총 실행시간\"을 출력한다.\n",
    "캐시 교체 알고리즘은 Least Recently Used를 사용한다.\n",
    "cache hit일 경우 실행시간은 1, cache miss일 경우 실행시간은 5이다."
   ]
  },
  {
   "cell_type": "code",
   "execution_count": 40,
   "metadata": {},
   "outputs": [],
   "source": [
    "def solution(cacheSize, cities) :\n",
    "    queue = []\n",
    "\n",
    "    hit = 0\n",
    "    miss = 0\n",
    "    \n",
    "    if cacheSize == 0 :\n",
    "        miss = len(cities)\n",
    "    else :\n",
    "        for city in cities :\n",
    "            miss += 1\n",
    "            city = city.lower()\n",
    "            \n",
    "            if len(queue) < cacheSize :\n",
    "                if city in queue :\n",
    "                    queue.remove(city)\n",
    "                    hit += 1\n",
    "                    miss -= 1\n",
    "            else :\n",
    "                if city in queue :\n",
    "                    queue.remove(city)\n",
    "                    hit += 1\n",
    "                    miss -= 1\n",
    "                else :\n",
    "                    queue.pop(0)\n",
    "                    \n",
    "            queue.append(city)\n",
    "            \n",
    "#             print(city, hit, miss, queue)\n",
    "\n",
    "    return hit+(miss*5)"
   ]
  }
 ],
 "metadata": {
  "kernelspec": {
   "display_name": "Python 3",
   "language": "python",
   "name": "python3"
  },
  "language_info": {
   "codemirror_mode": {
    "name": "ipython",
    "version": 3
   },
   "file_extension": ".py",
   "mimetype": "text/x-python",
   "name": "python",
   "nbconvert_exporter": "python",
   "pygments_lexer": "ipython3",
   "version": "3.7.3"
  }
 },
 "nbformat": 4,
 "nbformat_minor": 2
}
