{
 "cells": [
  {
   "cell_type": "code",
   "execution_count": 235,
   "metadata": {},
   "outputs": [],
   "source": [
    "def solution(s) :\n",
    "    if len(s) > 1 :\n",
    "        find_answer = []\n",
    "\n",
    "        for j in range(1, int(len(s)/2)+1) :\n",
    "            count = 1\n",
    "            total = \"\"\n",
    "\n",
    "            for i in range(len(s)) :\n",
    "                seq = i*j\n",
    "                term = j\n",
    "                result = initialize(seq, term)\n",
    "\n",
    "                if s[result[0]:result[1]] == s[result[1]:result[2]] :\n",
    "                     count += 1\n",
    "                else :\n",
    "                    if count > 1 :\n",
    "                        result = str(count)+s[result[0]:result[1]]\n",
    "                        total += result\n",
    "                    else :\n",
    "                         total += s[result[0]:result[1]]\n",
    "\n",
    "                    count = 1\n",
    "\n",
    "            find_answer.append(len(total))\n",
    "    else :\n",
    "        return 1\n",
    "        \n",
    "    return sorted(find_answer)[0]\n",
    "\n",
    "def initialize(point, term) :\n",
    "    start = point\n",
    "    waypoint = start + term\n",
    "    end = waypoint + term\n",
    "    \n",
    "    result = [start, waypoint, end]\n",
    "    \n",
    "    return result"
   ]
  }
 ],
 "metadata": {
  "kernelspec": {
   "display_name": "Python 3",
   "language": "python",
   "name": "python3"
  },
  "language_info": {
   "codemirror_mode": {
    "name": "ipython",
    "version": 3
   },
   "file_extension": ".py",
   "mimetype": "text/x-python",
   "name": "python",
   "nbconvert_exporter": "python",
   "pygments_lexer": "ipython3",
   "version": "3.7.3"
  }
 },
 "nbformat": 4,
 "nbformat_minor": 2
}
