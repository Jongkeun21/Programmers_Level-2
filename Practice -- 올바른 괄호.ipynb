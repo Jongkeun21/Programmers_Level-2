{
 "cells": [
  {
   "cell_type": "code",
   "execution_count": 14,
   "metadata": {},
   "outputs": [],
   "source": [
    "def solution(s) :\n",
    "    stack = []\n",
    "    answer = True\n",
    "\n",
    "    for char in s :\n",
    "        if char == \"(\" :\n",
    "            stack.append(1)\n",
    "        if char == \")\" :\n",
    "            if len(stack) == 0 :\n",
    "                answer = False\n",
    "                break\n",
    "            else :\n",
    "                stack.pop()\n",
    "                \n",
    "    if len(stack) != 0 :\n",
    "        answer = False\n",
    "    \n",
    "    return answer"
   ]
  }
 ],
 "metadata": {
  "kernelspec": {
   "display_name": "Python 3",
   "language": "python",
   "name": "python3"
  },
  "language_info": {
   "codemirror_mode": {
    "name": "ipython",
    "version": 3
   },
   "file_extension": ".py",
   "mimetype": "text/x-python",
   "name": "python",
   "nbconvert_exporter": "python",
   "pygments_lexer": "ipython3",
   "version": "3.7.3"
  }
 },
 "nbformat": 4,
 "nbformat_minor": 2
}
