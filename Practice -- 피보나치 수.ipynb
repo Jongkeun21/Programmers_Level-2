{
 "cells": [
  {
   "cell_type": "code",
   "execution_count": null,
   "metadata": {},
   "outputs": [],
   "source": [
    "def fibonacci(n) :\n",
    "    a, b = 1, 0\n",
    "    \n",
    "    for i in range(n) :\n",
    "        a, b = b, a+b\n",
    "        \n",
    "    return b\n",
    "\n",
    "def solution(n) :\n",
    "    if n == 1 :\n",
    "        return 1\n",
    "    else :\n",
    "        answer = fibonacci(n)\n",
    "        return answer%1234567"
   ]
  }
 ],
 "metadata": {
  "kernelspec": {
   "display_name": "Python 3",
   "language": "python",
   "name": "python3"
  },
  "language_info": {
   "codemirror_mode": {
    "name": "ipython",
    "version": 3
   },
   "file_extension": ".py",
   "mimetype": "text/x-python",
   "name": "python",
   "nbconvert_exporter": "python",
   "pygments_lexer": "ipython3",
   "version": "3.7.3"
  }
 },
 "nbformat": 4,
 "nbformat_minor": 2
}
