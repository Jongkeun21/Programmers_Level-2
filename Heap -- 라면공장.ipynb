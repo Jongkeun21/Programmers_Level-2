{
 "cells": [
  {
   "cell_type": "code",
   "execution_count": 1,
   "metadata": {},
   "outputs": [],
   "source": [
    "import heapq"
   ]
  },
  {
   "cell_type": "code",
   "execution_count": 10,
   "metadata": {},
   "outputs": [],
   "source": [
    "stock = 4\n",
    "dates = [4,10,15]\n",
    "supplies = [20,5,10]\n",
    "k = 30"
   ]
  },
  {
   "cell_type": "code",
   "execution_count": 11,
   "metadata": {},
   "outputs": [
    {
     "name": "stdout",
     "output_type": "stream",
     "text": [
      "[-20]\n",
      "[-10, -5]\n"
     ]
    }
   ],
   "source": [
    "def solution(stock, dates, supplies, k) :\n",
    "    answer = 0\n",
    "    count = 0\n",
    "    heap = []\n",
    "\n",
    "    while stock < k :\n",
    "        for i in range(count, len(dates)) :\n",
    "            if dates[i] <= stock :\n",
    "                heapq.heappush(heap, (-1)*supplies[i])\n",
    "                count += 1\n",
    "            else :\n",
    "                break\n",
    "\n",
    "        stock += heapq.heappop(heap)*(-1)\n",
    "        answer += 1\n",
    "        \n",
    "    return answer"
   ]
  }
 ],
 "metadata": {
  "kernelspec": {
   "display_name": "Python 3",
   "language": "python",
   "name": "python3"
  },
  "language_info": {
   "codemirror_mode": {
    "name": "ipython",
    "version": 3
   },
   "file_extension": ".py",
   "mimetype": "text/x-python",
   "name": "python",
   "nbconvert_exporter": "python",
   "pygments_lexer": "ipython3",
   "version": "3.7.3"
  }
 },
 "nbformat": 4,
 "nbformat_minor": 2
}
