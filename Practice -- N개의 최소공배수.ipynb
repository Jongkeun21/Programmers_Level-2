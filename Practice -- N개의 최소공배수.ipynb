{
 "cells": [
  {
   "cell_type": "code",
   "execution_count": 12,
   "metadata": {},
   "outputs": [],
   "source": [
    "def solution(arr) :\n",
    "    arr.sort()\n",
    "\n",
    "    num = 1\n",
    "    max_ = arr[-1]\n",
    "    flag = len(arr)\n",
    "\n",
    "    while 1 :\n",
    "        count = 1\n",
    "        candi = max_*num\n",
    "\n",
    "        for i in range(len(arr)-1) :\n",
    "            if candi%arr[i] == 0 :\n",
    "                count += 1\n",
    "\n",
    "        if count == flag :\n",
    "            break\n",
    "        else :\n",
    "            num += 1\n",
    "            \n",
    "    return num*max_"
   ]
  }
 ],
 "metadata": {
  "kernelspec": {
   "display_name": "Python 3",
   "language": "python",
   "name": "python3"
  },
  "language_info": {
   "codemirror_mode": {
    "name": "ipython",
    "version": 3
   },
   "file_extension": ".py",
   "mimetype": "text/x-python",
   "name": "python",
   "nbconvert_exporter": "python",
   "pygments_lexer": "ipython3",
   "version": "3.7.3"
  }
 },
 "nbformat": 4,
 "nbformat_minor": 2
}
