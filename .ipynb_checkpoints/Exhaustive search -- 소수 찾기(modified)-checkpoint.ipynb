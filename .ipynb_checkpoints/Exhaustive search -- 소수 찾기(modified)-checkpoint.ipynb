{
 "cells": [
  {
   "cell_type": "code",
   "execution_count": null,
   "metadata": {},
   "outputs": [],
   "source": [
    "from itertools import permutations\n",
    "\n",
    "def solution(numbers) :\n",
    "    kinds = [[] for col in range(len(numbers))]\n",
    "    \n",
    "    result = []\n",
    "    intRes = []\n",
    "\n",
    "    for i in range(len(numbers)) :\n",
    "        kinds[i] = list(map(''.join, permutations(numbers, i+1)))\n",
    "        result += kinds[i]\n",
    "\n",
    "    result = list(set(result))\n",
    "    \n",
    "    for j in range(len(result)) :\n",
    "        intRes.append(int(result[j]))\n",
    "\n",
    "    intRes = list(set(intRes)) # 중복제거\n",
    "    intRes.sort(reverse=True)\n",
    "    \n",
    "    count = []\n",
    "\n",
    "    for num in intRes :\n",
    "        if num == 0 or num == 1:\n",
    "            count.append(num)\n",
    "        else :\n",
    "            root = int(num ** 0.5)\n",
    "            for k in range(2, root+1) :\n",
    "                if num % k == 0 :\n",
    "                    count.append(num)\n",
    "                    break;\n",
    "                    \n",
    "    return len(list(set(intRes)-set(count)))"
   ]
  }
 ],
 "metadata": {
  "kernelspec": {
   "display_name": "Python 3",
   "language": "python",
   "name": "python3"
  },
  "language_info": {
   "codemirror_mode": {
    "name": "ipython",
    "version": 3
   },
   "file_extension": ".py",
   "mimetype": "text/x-python",
   "name": "python",
   "nbconvert_exporter": "python",
   "pygments_lexer": "ipython3",
   "version": "3.7.3"
  }
 },
 "nbformat": 4,
 "nbformat_minor": 2
}
