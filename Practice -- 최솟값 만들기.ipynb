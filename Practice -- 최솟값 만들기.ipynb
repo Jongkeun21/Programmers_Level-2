{
 "cells": [
  {
   "cell_type": "code",
   "execution_count": 7,
   "metadata": {},
   "outputs": [],
   "source": [
    "def solution(A, B) :\n",
    "    answer = 0\n",
    "    A.sort()\n",
    "    B.sort()\n",
    "\n",
    "    while A :\n",
    "        if A[-1] * B[0] < A[0] * B[-1] :\n",
    "            num1 = A.pop()\n",
    "            num2 = B.pop(0)\n",
    "        else :\n",
    "            num1 = A.pop(0)\n",
    "            num2 = B.pop()\n",
    "\n",
    "        answer += num1*num2\n",
    "        \n",
    "    return answer"
   ]
  }
 ],
 "metadata": {
  "kernelspec": {
   "display_name": "Python 3",
   "language": "python",
   "name": "python3"
  },
  "language_info": {
   "codemirror_mode": {
    "name": "ipython",
    "version": 3
   },
   "file_extension": ".py",
   "mimetype": "text/x-python",
   "name": "python",
   "nbconvert_exporter": "python",
   "pygments_lexer": "ipython3",
   "version": "3.7.3"
  }
 },
 "nbformat": 4,
 "nbformat_minor": 2
}
