{
 "cells": [
  {
   "cell_type": "code",
   "execution_count": null,
   "metadata": {},
   "outputs": [],
   "source": [
    "def solution(p) :\n",
    "    if len(p) == 0 :\n",
    "        return \"\"\n",
    "    else :\n",
    "        u, v = separate(p)\n",
    "        \n",
    "        if u[0] == '(' :\n",
    "            return u+solution(v)\n",
    "        else :\n",
    "            answer = \"(\" + solution(v) + \")\"\n",
    "            new_u = u[1:len(u)-1]\n",
    "            new_u = flip(new_u)\n",
    "            answer = answer + new_u\n",
    "            \n",
    "    return answer\n",
    "\n",
    "def separate(string) :\n",
    "    for i in range(0, len(string)+1, 2):\n",
    "        new = string[:i]\n",
    "        \n",
    "        if len(new) > 1 and new.count('(') == new.count(')') :\n",
    "            u = new\n",
    "            v = string[len(new):]\n",
    "            break\n",
    "            \n",
    "    return [u, v]\n",
    "\n",
    "def flip(string) :\n",
    "    new_string = \"\"\n",
    "    \n",
    "    for i in string :\n",
    "        if i == '(' :\n",
    "            new_string += ')'\n",
    "        else :\n",
    "            new_string += '('\n",
    "            \n",
    "    return new_string"
   ]
  }
 ],
 "metadata": {
  "kernelspec": {
   "display_name": "Python 3",
   "language": "python",
   "name": "python3"
  },
  "language_info": {
   "codemirror_mode": {
    "name": "ipython",
    "version": 3
   },
   "file_extension": ".py",
   "mimetype": "text/x-python",
   "name": "python",
   "nbconvert_exporter": "python",
   "pygments_lexer": "ipython3",
   "version": "3.7.3"
  }
 },
 "nbformat": 4,
 "nbformat_minor": 2
}
