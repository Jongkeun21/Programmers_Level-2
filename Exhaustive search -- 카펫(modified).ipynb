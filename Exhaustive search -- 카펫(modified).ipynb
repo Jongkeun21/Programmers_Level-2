{
 "cells": [
  {
   "cell_type": "code",
   "execution_count": null,
   "metadata": {},
   "outputs": [],
   "source": [
    "# 문제가 개편 되었습니다. 이로 인해 함수 구성이 변경되어, 과거의 코드는 동작하지 않을 수 있습니다.\n",
    "# 새로운 함수 구성을 적용하려면 [코드 초기화] 버튼을 누르세요. 단, [코드 초기화] 버튼을 누르면 작성 중인 코드는 사라집니다.\n",
    "def solution(brown, red):\n",
    "    num = []\n",
    "    answer = []\n",
    "    for i in range(1, int(red**0.5)+1) :\n",
    "        if red % i == 0 :\n",
    "            num.append([i, int(red/i)])\n",
    "    for j in range(len(num)) :\n",
    "        if (num[j][0]*2)+(num[j][1]*2) + 4 == brown :\n",
    "            answer += [num[j][0]+2, num[j][1] + 2]\n",
    "            \n",
    "    answer.sort(reverse=True)\n",
    "    return answer"
   ]
  }
 ],
 "metadata": {
  "kernelspec": {
   "display_name": "Python 3",
   "language": "python",
   "name": "python3"
  },
  "language_info": {
   "codemirror_mode": {
    "name": "ipython",
    "version": 3
   },
   "file_extension": ".py",
   "mimetype": "text/x-python",
   "name": "python",
   "nbconvert_exporter": "python",
   "pygments_lexer": "ipython3",
   "version": "3.7.3"
  }
 },
 "nbformat": 4,
 "nbformat_minor": 2
}
