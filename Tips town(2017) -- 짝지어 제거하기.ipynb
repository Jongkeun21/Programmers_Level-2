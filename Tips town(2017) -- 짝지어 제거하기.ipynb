{
 "cells": [
  {
   "cell_type": "code",
   "execution_count": 11,
   "metadata": {},
   "outputs": [],
   "source": [
    "def solution(s) :\n",
    "    stack = [s[0]]\n",
    "\n",
    "    for i in range(1, len(s)) :\n",
    "        if len(stack) > 0 and s[i] == stack[-1] :\n",
    "            stack.pop()\n",
    "        else :\n",
    "            stack.append(s[i])\n",
    "           \n",
    "    if len(stack) > 0 :\n",
    "        answer = 0\n",
    "    else :\n",
    "        answer = 1\n",
    "        \n",
    "    return answer"
   ]
  }
 ],
 "metadata": {
  "kernelspec": {
   "display_name": "Python 3",
   "language": "python",
   "name": "python3"
  },
  "language_info": {
   "codemirror_mode": {
    "name": "ipython",
    "version": 3
   },
   "file_extension": ".py",
   "mimetype": "text/x-python",
   "name": "python",
   "nbconvert_exporter": "python",
   "pygments_lexer": "ipython3",
   "version": "3.7.3"
  }
 },
 "nbformat": 4,
 "nbformat_minor": 2
}
