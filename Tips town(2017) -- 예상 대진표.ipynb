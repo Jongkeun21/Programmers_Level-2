{
 "cells": [
  {
   "cell_type": "code",
   "execution_count": 21,
   "metadata": {},
   "outputs": [],
   "source": [
    "def solution(n, a, b) :\n",
    "    answer = 0\n",
    "\n",
    "    while a != b :\n",
    "        if a%2 == 1 :\n",
    "            a += 1\n",
    "        if b%2 == 1 :\n",
    "            b += 1\n",
    "\n",
    "        a = a//2\n",
    "        b = b//2\n",
    "\n",
    "        answer += 1\n",
    "    \n",
    "    return answer"
   ]
  }
 ],
 "metadata": {
  "kernelspec": {
   "display_name": "Python 3",
   "language": "python",
   "name": "python3"
  },
  "language_info": {
   "codemirror_mode": {
    "name": "ipython",
    "version": 3
   },
   "file_extension": ".py",
   "mimetype": "text/x-python",
   "name": "python",
   "nbconvert_exporter": "python",
   "pygments_lexer": "ipython3",
   "version": "3.7.3"
  }
 },
 "nbformat": 4,
 "nbformat_minor": 2
}
