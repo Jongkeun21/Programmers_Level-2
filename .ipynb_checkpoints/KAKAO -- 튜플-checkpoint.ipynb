{
 "cells": [
  {
   "cell_type": "code",
   "execution_count": 2,
   "metadata": {},
   "outputs": [],
   "source": [
    "def solution(s) :\n",
    "    s_ = s[1:-1]\n",
    "    total = []\n",
    "    num = ''\n",
    "\n",
    "    for char in s_ :\n",
    "        if char == '{' :\n",
    "            result = []\n",
    "\n",
    "        if char != '{' and char != ',' and char != '}' :\n",
    "            num += char\n",
    "\n",
    "        if char == ',' or char == '}' :\n",
    "    #         print(num)\n",
    "            if num :\n",
    "                result.append(int(num))\n",
    "                num = ''\n",
    "\n",
    "        if char == '}' :\n",
    "            total.append(result)\n",
    "\n",
    "    total.sort(key=lambda x: len(x))\n",
    "\n",
    "    answer = []\n",
    "\n",
    "    for list_ in total :\n",
    "        for index in list_ :\n",
    "            if index not in answer :\n",
    "                answer.append(index)\n",
    "                \n",
    "    return answer"
   ]
  }
 ],
 "metadata": {
  "kernelspec": {
   "display_name": "Python 3",
   "language": "python",
   "name": "python3"
  },
  "language_info": {
   "codemirror_mode": {
    "name": "ipython",
    "version": 3
   },
   "file_extension": ".py",
   "mimetype": "text/x-python",
   "name": "python",
   "nbconvert_exporter": "python",
   "pygments_lexer": "ipython3",
   "version": "3.5.2"
  }
 },
 "nbformat": 4,
 "nbformat_minor": 2
}
