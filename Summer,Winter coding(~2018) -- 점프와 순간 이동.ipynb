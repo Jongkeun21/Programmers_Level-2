{
 "cells": [
  {
   "cell_type": "markdown",
   "metadata": {},
   "source": [
    "점프     --> 한 번에 K 만큼 이동\n",
    "         --> K 만큼 건전지 사용\n",
    "\n",
    "\n",
    "순간이동 --> 현재까지 온 거리 * 2 의 좌표로 이동\n",
    "         --> 건전지 사용하지 않음\n",
    "         \n",
    "거리 N 만큼 이동하려고 함, 건전지 사용량 최소화 하려고 함."
   ]
  },
  {
   "cell_type": "code",
   "execution_count": 11,
   "metadata": {},
   "outputs": [],
   "source": [
    "def solution(n) :\n",
    "    answer = 0\n",
    "\n",
    "    while n != 0 :\n",
    "        if n%2 == 0 :\n",
    "            n = n // 2\n",
    "        else :\n",
    "            n -= 1\n",
    "            answer += 1\n",
    "            \n",
    "    return answer"
   ]
  }
 ],
 "metadata": {
  "kernelspec": {
   "display_name": "Python 3",
   "language": "python",
   "name": "python3"
  },
  "language_info": {
   "codemirror_mode": {
    "name": "ipython",
    "version": 3
   },
   "file_extension": ".py",
   "mimetype": "text/x-python",
   "name": "python",
   "nbconvert_exporter": "python",
   "pygments_lexer": "ipython3",
   "version": "3.7.3"
  }
 },
 "nbformat": 4,
 "nbformat_minor": 2
}
