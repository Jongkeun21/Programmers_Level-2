{
 "cells": [
  {
   "cell_type": "code",
   "execution_count": null,
   "metadata": {},
   "outputs": [],
   "source": [
    "def solution(people, limit) :\n",
    "    people.sort()\n",
    "    length = len(people)\n",
    "    count = 0\n",
    "    mini = 0\n",
    "    maxi = length-1\n",
    "    \n",
    "    while mini < maxi :\n",
    "        if people[mini] + people[maxi] <= limit :\n",
    "            count += 1\n",
    "            mini += 1\n",
    "            maxi -= 1\n",
    "        else :\n",
    "            maxi -= 1\n",
    "            \n",
    "    return length-count"
   ]
  }
 ],
 "metadata": {
  "kernelspec": {
   "display_name": "Python 3",
   "language": "python",
   "name": "python3"
  },
  "language_info": {
   "codemirror_mode": {
    "name": "ipython",
    "version": 3
   },
   "file_extension": ".py",
   "mimetype": "text/x-python",
   "name": "python",
   "nbconvert_exporter": "python",
   "pygments_lexer": "ipython3",
   "version": "3.5.2"
  }
 },
 "nbformat": 4,
 "nbformat_minor": 2
}
